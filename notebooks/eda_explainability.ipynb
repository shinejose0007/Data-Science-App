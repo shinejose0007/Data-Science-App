{
 "cells": [
  {
   "cell_type": "markdown",
   "id": "c11de4c4",
   "metadata": {},
   "source": [
    "# EDA and Explainability\n",
    "This notebook loads the synthetic dataset, does basic EDA, trains (or loads) the model, and shows feature importance plots."
   ]
  },
  {
   "cell_type": "code",
   "execution_count": 61,
   "id": "9450f2ec",
   "metadata": {},
   "outputs": [
    {
     "name": "stdout",
     "output_type": "stream",
     "text": [
      "   age  years_experience  education  salary  target_highvalue\n",
      "0   20                 3          2   32236                 1\n",
      "1   23                 1          1   31317                 1\n",
      "2   23                 0          2   36206                 1\n",
      "3   59                18          3   81300                 1\n",
      "4   29                 8          2   51883                 1\n",
      "Dataset summary (mean, std, min, max):\n",
      "              age  years_experience   education         salary  \\\n",
      "count  800.000000        800.000000  800.000000     800.000000   \n",
      "mean    39.390000         10.386250    1.843750   53440.037500   \n",
      "std     11.767689          6.177966    0.774652   17610.488861   \n",
      "min     20.000000          0.000000    1.000000    2223.000000   \n",
      "25%     29.000000          5.000000    1.000000   39855.250000   \n",
      "50%     39.000000         10.000000    2.000000   53371.500000   \n",
      "75%     50.000000         16.000000    2.000000   65886.250000   \n",
      "max     59.000000         23.000000    3.000000  102928.000000   \n",
      "\n",
      "       target_highvalue  \n",
      "count             800.0  \n",
      "mean                1.0  \n",
      "std                 0.0  \n",
      "min                 1.0  \n",
      "25%                 1.0  \n",
      "50%                 1.0  \n",
      "75%                 1.0  \n",
      "max                 1.0  \n",
      "\n",
      "Target value counts:\n",
      "target_highvalue\n",
      "1    800\n",
      "Name: count, dtype: int64\n",
      "\n",
      "Age histogram bins: [20.  23.9 27.8 31.7 35.6 39.5 43.4 47.3 51.2 55.1 59. ]\n",
      "Age histogram counts: [90 85 75 69 82 76 79 79 82 83]\n"
     ]
    }
   ],
   "source": [
    "import pandas as pd\n",
    "import numpy as np\n",
    "from pathlib import Path\n",
    "\n",
    "from pathlib import Path\n",
    "import pandas as pd\n",
    "\n",
    "PROJECT_ROOT = Path(\"C:/Users/shinejose/Downloads/sovanta_streamlit_app_fixed2\")\n",
    "data_path = PROJECT_ROOT / \"data\" / \"synthetic_customers.csv\"\n",
    "\n",
    "df = pd.read_csv(data_path)\n",
    "print(df.head())\n",
    "\n",
    "\n",
    "\n",
    "# -----------------------------\n",
    "# Basic EDA with NumPy\n",
    "# -----------------------------\n",
    "print(\"Dataset summary (mean, std, min, max):\")\n",
    "summary = df.describe()\n",
    "print(summary)\n",
    "\n",
    "print(\"\\nTarget value counts:\")\n",
    "print(df['target_highvalue'].value_counts())\n",
    "\n",
    "# -----------------------------\n",
    "# Histogram using NumPy\n",
    "# -----------------------------\n",
    "age_data = df['age'].to_numpy()\n",
    "hist_bins = 10\n",
    "hist_counts, bin_edges = np.histogram(age_data, bins=hist_bins)\n",
    "\n",
    "print(\"\\nAge histogram bins:\", bin_edges)\n",
    "print(\"Age histogram counts:\", hist_counts)\n",
    "\n",
    "# -----------------------------\n",
    "# Feature importance example\n",
    "# -----------------------------\n",
    "# If you have a RandomForest or similar model:\n",
    "# feat_names = ['age','years_experience','education','salary']\n",
    "# importances = clf.feature_importances_  # numpy array\n",
    "# print(\"Feature importances:\")\n",
    "# for f, imp in zip(feat_names, importances):\n",
    "#     print(f\"{f}: {imp:.3f}\")\n"
   ]
  },
  {
   "cell_type": "code",
   "execution_count": 63,
   "id": "0121ba28",
   "metadata": {},
   "outputs": [
    {
     "data": {
      "text/html": [
       "<div>\n",
       "<style scoped>\n",
       "    .dataframe tbody tr th:only-of-type {\n",
       "        vertical-align: middle;\n",
       "    }\n",
       "\n",
       "    .dataframe tbody tr th {\n",
       "        vertical-align: top;\n",
       "    }\n",
       "\n",
       "    .dataframe thead th {\n",
       "        text-align: right;\n",
       "    }\n",
       "</style>\n",
       "<table border=\"1\" class=\"dataframe\">\n",
       "  <thead>\n",
       "    <tr style=\"text-align: right;\">\n",
       "      <th></th>\n",
       "      <th>age</th>\n",
       "      <th>years_experience</th>\n",
       "      <th>education</th>\n",
       "      <th>salary</th>\n",
       "      <th>target_highvalue</th>\n",
       "    </tr>\n",
       "  </thead>\n",
       "  <tbody>\n",
       "    <tr>\n",
       "      <th>count</th>\n",
       "      <td>800.000000</td>\n",
       "      <td>800.000000</td>\n",
       "      <td>800.000000</td>\n",
       "      <td>800.000000</td>\n",
       "      <td>800.0</td>\n",
       "    </tr>\n",
       "    <tr>\n",
       "      <th>mean</th>\n",
       "      <td>39.390000</td>\n",
       "      <td>10.386250</td>\n",
       "      <td>1.843750</td>\n",
       "      <td>53440.037500</td>\n",
       "      <td>1.0</td>\n",
       "    </tr>\n",
       "    <tr>\n",
       "      <th>std</th>\n",
       "      <td>11.767689</td>\n",
       "      <td>6.177966</td>\n",
       "      <td>0.774652</td>\n",
       "      <td>17610.488861</td>\n",
       "      <td>0.0</td>\n",
       "    </tr>\n",
       "    <tr>\n",
       "      <th>min</th>\n",
       "      <td>20.000000</td>\n",
       "      <td>0.000000</td>\n",
       "      <td>1.000000</td>\n",
       "      <td>2223.000000</td>\n",
       "      <td>1.0</td>\n",
       "    </tr>\n",
       "    <tr>\n",
       "      <th>25%</th>\n",
       "      <td>29.000000</td>\n",
       "      <td>5.000000</td>\n",
       "      <td>1.000000</td>\n",
       "      <td>39855.250000</td>\n",
       "      <td>1.0</td>\n",
       "    </tr>\n",
       "    <tr>\n",
       "      <th>50%</th>\n",
       "      <td>39.000000</td>\n",
       "      <td>10.000000</td>\n",
       "      <td>2.000000</td>\n",
       "      <td>53371.500000</td>\n",
       "      <td>1.0</td>\n",
       "    </tr>\n",
       "    <tr>\n",
       "      <th>75%</th>\n",
       "      <td>50.000000</td>\n",
       "      <td>16.000000</td>\n",
       "      <td>2.000000</td>\n",
       "      <td>65886.250000</td>\n",
       "      <td>1.0</td>\n",
       "    </tr>\n",
       "    <tr>\n",
       "      <th>max</th>\n",
       "      <td>59.000000</td>\n",
       "      <td>23.000000</td>\n",
       "      <td>3.000000</td>\n",
       "      <td>102928.000000</td>\n",
       "      <td>1.0</td>\n",
       "    </tr>\n",
       "  </tbody>\n",
       "</table>\n",
       "</div>"
      ],
      "text/plain": [
       "              age  years_experience   education         salary  \\\n",
       "count  800.000000        800.000000  800.000000     800.000000   \n",
       "mean    39.390000         10.386250    1.843750   53440.037500   \n",
       "std     11.767689          6.177966    0.774652   17610.488861   \n",
       "min     20.000000          0.000000    1.000000    2223.000000   \n",
       "25%     29.000000          5.000000    1.000000   39855.250000   \n",
       "50%     39.000000         10.000000    2.000000   53371.500000   \n",
       "75%     50.000000         16.000000    2.000000   65886.250000   \n",
       "max     59.000000         23.000000    3.000000  102928.000000   \n",
       "\n",
       "       target_highvalue  \n",
       "count             800.0  \n",
       "mean                1.0  \n",
       "std                 0.0  \n",
       "min                 1.0  \n",
       "25%                 1.0  \n",
       "50%                 1.0  \n",
       "75%                 1.0  \n",
       "max                 1.0  "
      ]
     },
     "execution_count": 63,
     "metadata": {},
     "output_type": "execute_result"
    }
   ],
   "source": [
    "df.describe()"
   ]
  },
  {
   "cell_type": "code",
   "execution_count": 65,
   "id": "59f0cdb5",
   "metadata": {},
   "outputs": [
    {
     "name": "stdout",
     "output_type": "stream",
     "text": [
      "Bin edges: [20.  23.9 27.8 31.7 35.6 39.5 43.4 47.3 51.2 55.1 59. ]\n",
      "Counts: [90 85 75 69 82 76 79 79 82 83]\n",
      "20-24: ##########################################################################################\n",
      "24-28: #####################################################################################\n",
      "28-32: ###########################################################################\n",
      "32-36: #####################################################################\n",
      "36-40: ##################################################################################\n",
      "40-43: ############################################################################\n",
      "43-47: ###############################################################################\n",
      "47-51: ###############################################################################\n",
      "51-55: ##################################################################################\n",
      "55-59: ###################################################################################\n"
     ]
    }
   ],
   "source": [
    "import numpy as np\n",
    "\n",
    "# Histogram of 'age' using NumPy\n",
    "ages = df['age'].to_numpy()\n",
    "hist, bin_edges = np.histogram(ages, bins=10)  # 10 bins\n",
    "print(\"Bin edges:\", bin_edges)\n",
    "print(\"Counts:\", hist)\n",
    "\n",
    "# Optional: simple text-based histogram\n",
    "for i in range(len(hist)):\n",
    "    print(f\"{bin_edges[i]:.0f}-{bin_edges[i+1]:.0f}: {'#'*hist[i]}\")\n"
   ]
  },
  {
   "cell_type": "code",
   "execution_count": 67,
   "id": "aaa7bf7c",
   "metadata": {},
   "outputs": [
    {
     "name": "stdout",
     "output_type": "stream",
     "text": [
      "Model not found; run src.train_model to train the model first.\n"
     ]
    }
   ],
   "source": [
    "# Train a quick RandomForest and show feature_importances_\n",
    "import joblib, os\n",
    "model_path = os.path.join('models','model.joblib')\n",
    "if os.path.exists(model_path):\n",
    "    clf = joblib.load(model_path)\n",
    "    import numpy as np\n",
    "    feat_names = ['age','years_experience','education','salary']\n",
    "    import matplotlib.pyplot as plt\n",
    "    plt.figure()\n",
    "    plt.bar(feat_names, clf.feature_importances_)\n",
    "    plt.title('Feature importances')\n",
    "    plt.show()\n",
    "else:\n",
    "    print('Model not found; run src.train_model to train the model first.')\n"
   ]
  },
  {
   "cell_type": "code",
   "execution_count": 69,
   "id": "2a3c358b-9fc0-4996-afc5-0568772a06e6",
   "metadata": {},
   "outputs": [
    {
     "name": "stdout",
     "output_type": "stream",
     "text": [
      "age: ########## (0.20)\n",
      "experience: ######################### (0.50)\n",
      "education: ##### (0.10)\n",
      "salary: ########## (0.20)\n"
     ]
    }
   ],
   "source": [
    "import numpy as np\n",
    "\n",
    "feat_importances = np.array([0.2, 0.5, 0.1, 0.2])\n",
    "feat_names = ['age','experience','education','salary']\n",
    "\n",
    "for name, val in zip(feat_names, feat_importances):\n",
    "    print(f\"{name}: {'#'*int(val*50)} ({val:.2f})\")\n"
   ]
  }
 ],
 "metadata": {
  "kernelspec": {
   "display_name": "Python [conda env:mynewenv]",
   "language": "python",
   "name": "conda-env-mynewenv-py"
  },
  "language_info": {
   "codemirror_mode": {
    "name": "ipython",
    "version": 3
   },
   "file_extension": ".py",
   "mimetype": "text/x-python",
   "name": "python",
   "nbconvert_exporter": "python",
   "pygments_lexer": "ipython3",
   "version": "3.12.5"
  }
 },
 "nbformat": 4,
 "nbformat_minor": 5
}
